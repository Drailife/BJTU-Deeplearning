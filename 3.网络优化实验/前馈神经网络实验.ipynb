{
 "cells": [
  {
   "cell_type": "markdown",
   "id": "98a68242",
   "metadata": {
    "pycharm": {
     "name": "#%% md\n"
    }
   },
   "source": [
    "# 基本信息\n",
    "1. 实验名称：网络优化实验\n",
    "2. 姓名：戴斌斌\n",
    "3. 学号：20281239\n",
    "4. 日期：2022/11/14"
   ]
  },
  {
   "cell_type": "markdown",
   "id": "11247ddf",
   "metadata": {
    "pycharm": {
     "name": "#%% md\n"
    }
   },
   "source": [
    "---"
   ]
  },
  {
   "cell_type": "markdown",
   "id": "57dc61ff",
   "metadata": {
    "pycharm": {
     "name": "#%% md\n"
    }
   },
   "source": [
    "# 一、任务1-在多分类任务实验中手动实现dropout\n",
    "\n",
    "## 1.1 任务内容\n",
    "\n",
    "1. 任务具体要求  \n",
    "在多分类任务实验中分别手动实现dropout  \n",
    "探究不同丢弃率对实验结果的影响（可用loss曲线进行展示）\n",
    "2. 任务目的  \n",
    "探究不同丢弃率对实验结果的影响\n",
    "3. 任务算法或原理介绍    \n",
    "Dropout 原理   \n",
    "![](https://drailife.oss-cn-beijing.aliyuncs.com/img/202211112255396.png)\n",
    "4. 任务所用数据集   \n",
    "   MNIST手写体数据集:  \n",
    "     + 该数据集包含60,000个用于训练的图像样本和10,000个用于测试的图像样本。  \n",
    "     + 图像是固定大小(28x28像素)，其值为0到1。为每个图像都被平展并转换为784  \n",
    "        \n",
    "## 1.2 任务思路及代码  \n",
    "\n",
    "1. 构建数据集\n",
    "2. 构建前馈神经网络，损失函数，优化函数\n",
    "3. 手动实现dropout\n",
    "3. 使用网络预测结果，得到损失值  \n",
    "4. 进行反向传播，和梯度更新  \n",
    "5. 对loss、acc等指标进行分析"
   ]
  },
  {
   "cell_type": "markdown",
   "id": "0c45e34d-3d64-4a87-90b7-a154645d41ec",
   "metadata": {
    "pycharm": {
     "name": "#%% md\n"
    }
   },
   "source": [
    "### 1.2.0数据集定义"
   ]
  },
  {
   "cell_type": "code",
   "execution_count": 1,
   "id": "81ab1954-65ee-4629-8be4-606bb4a7bbc7",
   "metadata": {
    "pycharm": {
     "name": "#%%\n"
    }
   },
   "outputs": [
    {
     "name": "stdout",
     "output_type": "stream",
     "text": [
      "当前使用的device为cuda\n",
      "多分类数据集 样本总数量70000,训练样本数量60000,测试样本数量10000\n"
     ]
    }
   ],
   "source": [
    "import time\n",
    "import matplotlib.pyplot as plt\n",
    "import numpy as np\n",
    "import torch\n",
    "import torch.nn as nn\n",
    "import torchvision\n",
    "from torch.nn.functional import cross_entropy, binary_cross_entropy\n",
    "from torch.nn import CrossEntropyLoss\n",
    "from torchvision import transforms\n",
    "from sklearn import  metrics\n",
    "device = torch.device(\"cuda\" if torch.cuda.is_available() else \"cpu\") # 如果有gpu则在gpu上计算 加快计算速度\n",
    "print(f'当前使用的device为{device}')\n",
    "# 数据集定义\n",
    "# 定义多分类数据集 - train_dataloader - test_dataloader\n",
    "batch_size = 128\n",
    "# Build the training and testing dataset\n",
    "traindataset3 = torchvision.datasets.FashionMNIST(root='E:\\\\DataSet\\\\FashionMNIST\\\\Train',\n",
    "                                                  train=True,\n",
    "                                                  download=True,\n",
    "                                                  transform=transforms.ToTensor())\n",
    "testdataset3 = torchvision.datasets.FashionMNIST(root='E:\\\\DataSet\\\\FashionMNIST\\\\Test',\n",
    "                                                 train=False,\n",
    "                                                 download=True,\n",
    "                                                 transform=transforms.ToTensor())\n",
    "traindataloader3 = torch.utils.data.DataLoader(traindataset3, batch_size=batch_size, shuffle=True)\n",
    "testdataloader3 = torch.utils.data.DataLoader(testdataset3, batch_size=batch_size, shuffle=False)\n",
    "# 绘制图像的代码\n",
    "def picture(name, trainl, testl, type='Loss'):\n",
    "    plt.rcParams[\"font.sans-serif\"]=[\"SimHei\"] #设置字体\n",
    "    plt.rcParams[\"axes.unicode_minus\"]=False #该语句解决图像中的“-”负号的乱码问题\n",
    "    plt.title(name) # 命名\n",
    "    plt.plot(trainl, c='g', label='Train '+ type)\n",
    "    plt.plot(testl, c='r', label='Test '+type)\n",
    "    plt.xlabel('Epoch')\n",
    "    plt.ylabel('Loss')\n",
    "    plt.legend()\n",
    "    plt.grid(True)\n",
    "print(f'多分类数据集 样本总数量{len(traindataset3) + len(testdataset3)},训练样本数量{len(traindataset3)},测试样本数量{len(testdataset3)}')"
   ]
  },
  {
   "cell_type": "markdown",
   "id": "b7aac301-fe38-4140-a9db-1546079567e2",
   "metadata": {
    "pycharm": {
     "name": "#%% md\n"
    }
   },
   "source": [
    "### 1.2.1 手动实现前馈网络-回归任务  \n"
   ]
  },
  {
   "cell_type": "markdown",
   "id": "16e681e5-2b89-4083-85a8-71249ae56686",
   "metadata": {
    "pycharm": {
     "name": "#%% md\n"
    }
   },
   "source": [
    "\n",
    "### 1.2.2 手动前馈网络-二分类任务  \n"
   ]
  },
  {
   "cell_type": "markdown",
   "id": "c36fb582-89d6-44b4-846d-f5ae00671374",
   "metadata": {
    "pycharm": {
     "name": "#%% md\n"
    }
   },
   "source": [
    "### 1.2.3 手动实现前馈神经网络-多分类  \n"
   ]
  },
  {
   "cell_type": "markdown",
   "id": "47cbf009",
   "metadata": {
    "pycharm": {
     "name": "#%% md\n"
    }
   },
   "source": [
    "## 1.3 实验结果分析  \n",
    "将上述前馈网络回归任务每一轮得训练和测试得损失值绘制成图表，如下图："
   ]
  },
  {
   "cell_type": "markdown",
   "id": "d2c151c1",
   "metadata": {
    "pycharm": {
     "name": "#%% md\n"
    }
   },
   "source": [
    "将上述的二分类和多分类的正确率绘制成表格"
   ]
  },
  {
   "cell_type": "markdown",
   "id": "eaca0561",
   "metadata": {
    "pycharm": {
     "name": "#%% md\n"
    }
   },
   "source": [
    "---"
   ]
  },
  {
   "cell_type": "markdown",
   "id": "edb5e7c2-1a1e-45e7-8b06-31f5d0b51691",
   "metadata": {
    "pycharm": {
     "name": "#%% md\n"
    }
   },
   "source": [
    "### 2.2.1 torch.nn实现前馈神经网络-回归任务"
   ]
  },
  {
   "cell_type": "code",
   "execution_count": 13,
   "id": "9fdc80f4-31ab-4259-8e45-8008774b261b",
   "metadata": {
    "pycharm": {
     "name": "#%%\n"
    }
   },
   "outputs": [
    {
     "name": "stdout",
     "output_type": "stream",
     "text": [
      "MyNet21(\n",
      "  (input_layer): Flatten(start_dim=1, end_dim=-1)\n",
      "  (hidden_layer): Linear(in_features=500, out_features=256, bias=True)\n",
      "  (output_layer): Linear(in_features=256, out_features=1, bias=True)\n",
      "  (relu): ReLU()\n",
      ")\n",
      "epoch: 1 | train loss:179.20287 | test loss:0.46446\n",
      "epoch: 10 | train loss:0.26332 | test loss:0.16052\n",
      "epoch: 20 | train loss:0.16424 | test loss:0.14287\n",
      "epoch: 30 | train loss:0.11388 | test loss:0.13307\n",
      "epoch: 40 | train loss:0.08121 | test loss:0.13289\n",
      "torch.nn实现前馈网络-回归实验 40轮 总用时: 6.538s\n"
     ]
    }
   ],
   "source": [
    "from torch.optim import SGD\n",
    "from torch.nn import MSELoss\n",
    "# 利用torch.nn实现前馈神经网络-回归任务 代码\n",
    "# 定义自己的前馈神经网络\n",
    "class MyNet21(nn.Module):\n",
    "    def __init__(self):\n",
    "        super(MyNet21, self).__init__()\n",
    "        # 设置隐藏层和输出层的节点数\n",
    "        num_inputs, num_hiddens, num_outputs = 500, 256, 1\n",
    "        # 定义模型结构\n",
    "        self.input_layer = nn.Flatten()\n",
    "        self.hidden_layer = nn.Linear(num_inputs, num_hiddens)\n",
    "        self.output_layer = nn.Linear(num_hiddens, num_outputs)\n",
    "        self.relu = nn.ReLU()\n",
    "\n",
    "    # 定义前向传播\n",
    "    def forward(self, x):\n",
    "        x = self.input_layer(x)\n",
    "        x = self.relu(self.hidden_layer(x))\n",
    "        x = self.output_layer(x)\n",
    "        return x\n",
    "\n",
    "# 训练\n",
    "model21 = MyNet21()  # logistics模型\n",
    "model21 = model21.to(device)\n",
    "print(model21)\n",
    "criterion = MSELoss()  # 损失函数\n",
    "criterion = criterion.to(device)\n",
    "optimizer = SGD(model21.parameters(), lr=0.1)  # 优化函数\n",
    "epochs = 40  # 训练轮数\n",
    "train_all_loss21 = []  # 记录训练集上得loss变化\n",
    "test_all_loss21 = []  # 记录测试集上的loss变化\n",
    "begintime21 = time.time()\n",
    "for epoch in range(epochs):\n",
    "    train_l = 0\n",
    "    for data, labels in traindataloader1:\n",
    "        data, labels = data.to(device=device), labels.to(device)\n",
    "        pred = model21(data)\n",
    "        train_each_loss = criterion(pred.view(-1, 1), labels.view(-1, 1))  # 计算每次的损失值\n",
    "        optimizer.zero_grad()  # 梯度清零\n",
    "        train_each_loss.backward()  # 反向传播\n",
    "        optimizer.step()  # 梯度更新\n",
    "        train_l += train_each_loss.item()\n",
    "    train_all_loss21.append(train_l)  # 添加损失值到列表中\n",
    "    with torch.no_grad():\n",
    "        test_loss = 0\n",
    "        for data, labels in testdataloader1:\n",
    "            data, labels = data.to(device), labels.to(device)\n",
    "            pred = model21(data)\n",
    "            test_each_loss = criterion(pred,labels)\n",
    "            test_loss += test_each_loss.item()\n",
    "        test_all_loss21.append(test_loss)\n",
    "    if epoch == 0 or (epoch + 1) % 10 == 0:\n",
    "        print('epoch: %d | train loss:%.5f | test loss:%.5f' % (epoch + 1, train_all_loss21[-1], test_all_loss21[-1]))\n",
    "endtime21 = time.time()\n",
    "print(\"torch.nn实现前馈网络-回归实验 %d轮 总用时: %.3fs\" % (epochs, endtime21 - begintime21))"
   ]
  },
  {
   "cell_type": "markdown",
   "id": "847b273f-2550-4aa0-8cab-fbec255294fb",
   "metadata": {
    "pycharm": {
     "name": "#%% md\n"
    }
   },
   "source": [
    "### 2.2.2 torch.nn实现前馈神经网络-二分类"
   ]
  },
  {
   "cell_type": "code",
   "execution_count": 14,
   "id": "1c07fb17-0573-4443-a8b3-7f28ee4e6d8d",
   "metadata": {
    "pycharm": {
     "name": "#%%\n"
    }
   },
   "outputs": [
    {
     "name": "stdout",
     "output_type": "stream",
     "text": [
      "MyNet22(\n",
      "  (input_layer): Flatten(start_dim=1, end_dim=-1)\n",
      "  (hidden_layer): Linear(in_features=200, out_features=256, bias=True)\n",
      "  (output_layer): Linear(in_features=256, out_features=1, bias=True)\n",
      "  (relu): ReLU()\n",
      ")\n",
      "epoch: 1 | train loss:79.07320 test loss:32.92679 | train acc:0.47936 | test acc:0.51533\n",
      "epoch: 4 | train loss:67.24074 test loss:28.13028 | train acc:0.71221 | test acc:0.73583\n",
      "epoch: 8 | train loss:56.03760 test loss:23.48878 | train acc:0.83114 | test acc:0.84050\n",
      "epoch: 12 | train loss:47.73045 test loss:20.03178 | train acc:0.86971 | test acc:0.87617\n",
      "epoch: 16 | train loss:41.48397 test loss:17.45700 | train acc:0.88629 | test acc:0.89017\n",
      "epoch: 20 | train loss:36.86592 test loss:15.55864 | train acc:0.89643 | test acc:0.89600\n",
      "epoch: 24 | train loss:33.54197 test loss:14.16518 | train acc:0.90271 | test acc:0.90067\n",
      "epoch: 28 | train loss:31.02676 test loss:13.14387 | train acc:0.90700 | test acc:0.90467\n",
      "epoch: 32 | train loss:29.09306 test loss:12.38178 | train acc:0.90971 | test acc:0.90917\n",
      "epoch: 36 | train loss:27.60086 test loss:11.78166 | train acc:0.91136 | test acc:0.91133\n",
      "epoch: 40 | train loss:26.49638 test loss:11.34545 | train acc:0.91279 | test acc:0.91233\n",
      "torch.nn实现前馈网络-二分类实验 40轮 总用时: 15.395s\n"
     ]
    }
   ],
   "source": [
    "# 利用torch.nn实现前馈神经网络-二分类任务\n",
    "import time\n",
    "from torch.optim import SGD\n",
    "from torch.nn.functional import binary_cross_entropy\n",
    "# 利用torch.nn实现前馈神经网络-回归任务 代码\n",
    "# 定义自己的前馈神经网络\n",
    "class MyNet22(nn.Module):\n",
    "    def __init__(self):\n",
    "        super(MyNet22, self).__init__()\n",
    "        # 设置隐藏层和输出层的节点数\n",
    "        num_inputs, num_hiddens, num_outputs = 200, 256, 1\n",
    "        # 定义模型结构\n",
    "        self.input_layer = nn.Flatten()\n",
    "        self.hidden_layer = nn.Linear(num_inputs, num_hiddens)\n",
    "        self.output_layer = nn.Linear(num_hiddens, num_outputs)\n",
    "        self.relu = nn.ReLU()\n",
    "\n",
    "    def logistic(self, x):  # 定义logistic函数\n",
    "        x = 1.0 / (1.0 + torch.exp(-x))\n",
    "        return x\n",
    "    # 定义前向传播\n",
    "    def forward(self, x):\n",
    "        x = self.input_layer(x)\n",
    "        x = self.relu(self.hidden_layer(x))\n",
    "        x = self.logistic(self.output_layer(x))\n",
    "        return x\n",
    "\n",
    "# 训练\n",
    "model22 = MyNet22()  # logistics模型\n",
    "model22 = model22.to(device)\n",
    "print(model22)\n",
    "optimizer = SGD(model22.parameters(), lr=0.001)  # 优化函数\n",
    "epochs = 40  # 训练轮数\n",
    "train_all_loss22 = []  # 记录训练集上得loss变化\n",
    "test_all_loss22 = []  # 记录测试集上的loss变化\n",
    "train_ACC22, test_ACC22 = [], []\n",
    "begintime22 = time.time()\n",
    "for epoch in range(epochs):\n",
    "    train_l, train_epoch_count, test_epoch_count = 0, 0, 0 # 每一轮的训练损失值 训练集正确个数 测试集正确个数\n",
    "    for data, labels in traindataloader2:\n",
    "        data, labels = data.to(device), labels.to(device)\n",
    "        pred = model22(data)\n",
    "        train_each_loss = binary_cross_entropy(pred.view(-1), labels.view(-1))  # 计算每次的损失值\n",
    "        optimizer.zero_grad()  # 梯度清零\n",
    "        train_each_loss.backward()  # 反向传播\n",
    "        optimizer.step()  # 梯度更新\n",
    "        train_l += train_each_loss.item()\n",
    "        pred = torch.tensor(np.where(pred.cpu()>0.5, 1, 0))  # 大于 0.5时候，预测标签为 1 否则为0\n",
    "        each_count = (pred.view(-1) == labels.cpu()).sum() # 每一个batchsize的正确个数\n",
    "        train_epoch_count += each_count # 计算每个epoch上的正确个数\n",
    "    train_ACC22.append(train_epoch_count / len(traindataset2))\n",
    "    train_all_loss22.append(train_l)  # 添加损失值到列表中\n",
    "    with torch.no_grad():\n",
    "        test_loss, each_count = 0, 0\n",
    "        for data, labels in testdataloader2:\n",
    "            data, labels = data.to(device), labels.to(device)\n",
    "            pred = model22(data)\n",
    "            test_each_loss = binary_cross_entropy(pred.view(-1),labels)\n",
    "            test_loss += test_each_loss.item()\n",
    "            # .cpu 为转换到cpu上计算\n",
    "            pred = torch.tensor(np.where(pred.cpu() > 0.5, 1, 0))\n",
    "            each_count = (pred.view(-1)==labels.cpu().view(-1)).sum()\n",
    "            test_epoch_count += each_count\n",
    "        test_all_loss22.append(test_loss)\n",
    "        test_ACC22.append(test_epoch_count / len(testdataset2))\n",
    "    if epoch == 0 or (epoch + 1) % 4 == 0:\n",
    "        print('epoch: %d | train loss:%.5f test loss:%.5f | train acc:%.5f | test acc:%.5f' % (epoch + 1, train_all_loss22[-1], \n",
    "                                                                                               test_all_loss22[-1], train_ACC22[-1], test_ACC22[-1]))\n",
    "\n",
    "endtime22 = time.time()\n",
    "print(\"torch.nn实现前馈网络-二分类实验 %d轮 总用时: %.3fs\" % (epochs, endtime22 - begintime22))"
   ]
  },
  {
   "cell_type": "markdown",
   "id": "a1200b9b-da27-46e7-a8c7-474afb88a855",
   "metadata": {
    "pycharm": {
     "name": "#%% md\n"
    }
   },
   "source": [
    "### 2.2.3 torch.nn实现前馈神经网络-多分类任务"
   ]
  },
  {
   "cell_type": "code",
   "execution_count": 77,
   "id": "eb70e09a",
   "metadata": {
    "pycharm": {
     "name": "#%%\n"
    }
   },
   "outputs": [
    {
     "name": "stdout",
     "output_type": "stream",
     "text": [
      "你本次使用的激活函数为 relu\n",
      "MyNet23(\n",
      "  (input_layer): Flatten(start_dim=1, end_dim=-1)\n",
      "  (hidden_layers): Linear(in_features=784, out_features=256, bias=True)\n",
      "  (output_layer): Linear(in_features=256, out_features=10, bias=True)\n",
      "  (act): ReLU()\n",
      ")\n",
      "epoch: 1 | train loss:657.80222 | test loss:74.67226 | train acc:0.617033 test acc:0.68250:\n",
      "epoch: 4 | train loss:294.04037 | test loss:49.02613 | train acc:0.790417 test acc:0.78640:\n",
      "epoch: 8 | train loss:240.90404 | test loss:42.03059 | train acc:0.825967 test acc:0.81290:\n",
      "epoch: 12 | train loss:220.93427 | test loss:38.98449 | train acc:0.838167 test acc:0.82560:\n",
      "epoch: 16 | train loss:209.56696 | test loss:37.69722 | train acc:0.846100 test acc:0.83220:\n",
      "epoch: 20 | train loss:201.51846 | test loss:36.26622 | train acc:0.850833 test acc:0.83680:\n",
      "epoch: 24 | train loss:195.08846 | test loss:35.30845 | train acc:0.856483 test acc:0.84050:\n",
      "epoch: 28 | train loss:189.75432 | test loss:34.98433 | train acc:0.859967 test acc:0.84270:\n",
      "epoch: 32 | train loss:185.09050 | test loss:34.47698 | train acc:0.863317 test acc:0.84540:\n",
      "epoch: 36 | train loss:181.01641 | test loss:33.44194 | train acc:0.866517 test acc:0.84900:\n",
      "epoch: 40 | train loss:177.54666 | test loss:33.11320 | train acc:0.868933 test acc:0.85150:\n",
      "torch.nn实现前馈网络-多分类任务 40轮 总用时: 282.329s\n"
     ]
    }
   ],
   "source": [
    "# 利用torch.nn实现前馈神经网络-多分类任务\n",
    "from collections import OrderedDict\n",
    "from torch.nn import CrossEntropyLoss\n",
    "from torch.optim import SGD\n",
    "# 定义自己的前馈神经网络\n",
    "class MyNet23(nn.Module):\n",
    "    \"\"\"\n",
    "    参数：  num_input：输入每层神经元个数，为一个列表数据\n",
    "            num_hiddens：隐藏层神经元个数\n",
    "            num_outs： 输出层神经元个数\n",
    "            num_hiddenlayer : 隐藏层的个数\n",
    "    \"\"\"\n",
    "    def __init__(self,num_hiddenlayer=1, num_inputs=28*28,num_hiddens=[256],num_outs=10,act='relu'):\n",
    "        super(MyNet23, self).__init__()\n",
    "        # 设置隐藏层和输出层的节点数\n",
    "        self.num_inputs, self.num_hiddens, self.num_outputs = num_inputs,num_hiddens,num_outs # 十分类问题\n",
    "\n",
    "        # 定义模型结构\n",
    "        self.input_layer = nn.Flatten()\n",
    "        # 若只有一层隐藏层\n",
    "        if num_hiddenlayer ==1:\n",
    "            self.hidden_layers = nn.Linear(self.num_inputs,self.num_hiddens[-1])\n",
    "        else: # 若有多个隐藏层\n",
    "            self.hidden_layers = nn.Sequential()\n",
    "            self.hidden_layers.add_module(\"hidden_layer1\", nn.Linear(self.num_inputs,self.num_hiddens[0]))\n",
    "            for i in range(0,num_hiddenlayer-1):\n",
    "                name = str('hidden_layer'+str(i+2))\n",
    "                self.hidden_layers.add_module(name, nn.Linear(self.num_hiddens[i],self.num_hiddens[i+1]))\n",
    "        self.output_layer = nn.Linear(self.num_hiddens[-1], self.num_outputs)\n",
    "        # 指代需要使用什么样子的激活函数\n",
    "        if act == 'relu':\n",
    "            self.act = nn.ReLU()\n",
    "        elif act == 'sigmoid':\n",
    "            self.act = nn.Sigmoid()\n",
    "        elif act == 'tanh':\n",
    "            self.act = nn.Tanh()\n",
    "        elif act == 'elu':\n",
    "            self.act = nn.ELU()\n",
    "        print(f'你本次使用的激活函数为 {act}')\n",
    "\n",
    "    def logistic(self, x):  # 定义logistic函数\n",
    "        x = 1.0 / (1.0 + torch.exp(-x))\n",
    "        return x\n",
    "    # 定义前向传播\n",
    "    def forward(self, x):\n",
    "        x = self.input_layer(x)\n",
    "        x = self.act(self.hidden_layers(x))\n",
    "        x = self.output_layer(x)\n",
    "        return x\n",
    "\n",
    "# 训练\n",
    "# 使用默认的参数即： num_inputs=28*28,num_hiddens=256,num_outs=10,act='relu'\n",
    "model23 = MyNet23()  \n",
    "model23 = model23.to(device)\n",
    "\n",
    "# 将训练过程定义为一个函数，方便实验三和实验四调用\n",
    "def train_and_test(model=model23):\n",
    "    MyModel = model\n",
    "    print(MyModel)\n",
    "    optimizer = SGD(MyModel.parameters(), lr=0.01)  # 优化函数\n",
    "    epochs = 40  # 训练轮数\n",
    "    criterion = CrossEntropyLoss() # 损失函数\n",
    "    train_all_loss23 = []  # 记录训练集上得loss变化\n",
    "    test_all_loss23 = []  # 记录测试集上的loss变化\n",
    "    train_ACC23, test_ACC23 = [], []\n",
    "    begintime23 = time.time()\n",
    "    for epoch in range(epochs):\n",
    "        train_l, train_epoch_count, test_epoch_count = 0, 0, 0\n",
    "        for data, labels in traindataloader3:\n",
    "            data, labels = data.to(device), labels.to(device)\n",
    "            pred = MyModel(data)\n",
    "            train_each_loss = criterion(pred, labels.view(-1))  # 计算每次的损失值\n",
    "            optimizer.zero_grad()  # 梯度清零\n",
    "            train_each_loss.backward()  # 反向传播\n",
    "            optimizer.step()  # 梯度更新\n",
    "            train_l += train_each_loss.item()\n",
    "            train_epoch_count += (pred.argmax(dim=1)==labels).sum()\n",
    "        train_ACC23.append(train_epoch_count.cpu()/len(traindataset3))\n",
    "        train_all_loss23.append(train_l)  # 添加损失值到列表中\n",
    "        with torch.no_grad():\n",
    "            test_loss, test_epoch_count= 0, 0\n",
    "            for data, labels in testdataloader3:\n",
    "                data, labels = data.to(device), labels.to(device)\n",
    "                pred = MyModel(data)\n",
    "                test_each_loss = criterion(pred,labels)\n",
    "                test_loss += test_each_loss.item()\n",
    "                test_epoch_count += (pred.argmax(dim=1)==labels).sum()\n",
    "            test_all_loss23.append(test_loss)\n",
    "            test_ACC23.append(test_epoch_count.cpu()/len(testdataset3))\n",
    "        if epoch == 0 or (epoch + 1) % 4 == 0:\n",
    "            print('epoch: %d | train loss:%.5f | test loss:%.5f | train acc:%5f test acc:%.5f:' % (epoch + 1, train_all_loss23[-1], test_all_loss23[-1],\n",
    "                                                                                                                     train_ACC23[-1],test_ACC23[-1]))\n",
    "    endtime23 = time.time()\n",
    "    print(\"torch.nn实现前馈网络-多分类任务 %d轮 总用时: %.3fs\" % (epochs, endtime23 - begintime23))\n",
    "    # 返回训练集和测试集上的 损失值 与 准确率\n",
    "    return train_all_loss23,test_all_loss23,train_ACC23,test_ACC23\n",
    "train_all_loss23,test_all_loss23,train_ACC23,test_ACC23 = train_and_test(model=model23)"
   ]
  },
  {
   "cell_type": "markdown",
   "id": "e9e8191c",
   "metadata": {
    "pycharm": {
     "name": "#%% md\n"
    },
    "tags": []
   },
   "source": [
    "## 2.3 实验结果分析  \n",
    "将上述前馈网络回归任务每一轮得训练和测试得损失值绘制成图表，如下图："
   ]
  },
  {
   "cell_type": "code",
   "execution_count": null,
   "id": "20e17d1d-e488-4247-ab0c-f0230d7cd2cf",
   "metadata": {
    "pycharm": {
     "name": "#%%\n"
    }
   },
   "outputs": [
    {
     "data": {
      "image/png": "[encoded data removed]",
      "text/plain": [
       "<Figure size 1200x300 with 3 Axes>"
      ]
     },
     "metadata": {},
     "output_type": "display_data"
    }
   ],
   "source": [
    "plt.figure(figsize=(12,3))\n",
    "plt.subplot(131)\n",
    "picture('前馈网络-回归-loss',train_all_loss21,test_all_loss21)\n",
    "plt.subplot(132)\n",
    "picture('前馈网络-二分类-loss',train_all_loss22,test_all_loss22)\n",
    "plt.subplot(133)\n",
    "picture('前馈网络-多分类-loss',train_all_loss23,test_all_loss23)\n",
    "plt.show()"
   ]
  },
  {
   "cell_type": "markdown",
   "id": "fb0eca5d-c3a7-4ebb-b67d-b7188f6dd007",
   "metadata": {},
   "source": [
    "将上述前馈网络回归任务每一轮得训练和测试得准确率值绘制成图表，如下图："
   ]
  },
  {
   "cell_type": "code",
   "execution_count": 78,
   "id": "701ddf37-b230-4965-981b-400a176f73cd",
   "metadata": {},
   "outputs": [
    {
     "data": {
      "image/png": "[encoded data removed]",
      "text/plain": [
       "<Figure size 800x300 with 2 Axes>"
      ]
     },
     "metadata": {},
     "output_type": "display_data"
    }
   ],
   "source": [
    "plt.figure(figsize=(8,3))\n",
    "plt.subplot(121)\n",
    "picture('前馈网络-二分类-ACC',train_ACC22,test_ACC22,type='ACC')\n",
    "plt.subplot(122)\n",
    "picture('前馈网络-多分类-ACC',train_ACC23,test_ACC23,type='ACC')\n",
    "plt.show()"
   ]
  },
  {
   "cell_type": "markdown",
   "id": "02fa0e2b-3d98-4231-a9dd-a62642254403",
   "metadata": {},
   "source": [
    "torch.nn实现的前馈网络在不同的数据集上表现出不同的效果，在回归问题中，损失函数下降速度极快，在前几轮就充分训练模型，并取得较好的效果。  \n",
    "在二分类中，loss值稳步下降，准确率逐步提升。  \n",
    "在多分类中，数据的规模较大，loss值在前6轮中下降较快，准确率提升较大，在后续的训练中，loss值相比前几轮下降较慢，准确率提升速度也不及前几轮。同时由于训练轮数的不足，模型并未没被完全训练好，可以通过增大epochs和lr来解决这个问题。"
   ]
  },
  {
   "cell_type": "markdown",
   "id": "121f592e",
   "metadata": {},
   "source": [
    "---"
   ]
  },
  {
   "cell_type": "markdown",
   "id": "bfabe468",
   "metadata": {
    "jp-MarkdownHeadingCollapsed": true,
    "tags": []
   },
   "source": [
    "# A1 实验心得\n",
    "\n",
    "学会手动构建前馈神经网络和利用torch.nn构建前馈神经网络解决回归、二分类、和多分类问题\n",
    "1. 实验中发现学习率的设置至关重要，如果学习率过大则会导致准确率下降的趋势，若学习率过小会导致模型需要更多时间收敛\n",
    "2. 实验过程中发现出现过拟合现象，通过修改相关参数得以纠正\n",
    "3. 学会程序模块话的编写，避免重复编写代码\n",
    "4. 对激活函数的选取有了更加清晰的认识\n",
    "5. 隐藏层的个数和隐藏层的神经元个数对模型有着很大的影响。\n",
    "\n",
    "# A2 参考文献  \n",
    "参考课程PPT"
   ]
  }
 ],
 "metadata": {
  "celltoolbar": "无",
  "kernelspec": {
   "display_name": "torch",
   "language": "python",
   "name": "torch"
  },
  "language_info": {
   "codemirror_mode": {
    "name": "ipython",
    "version": 3
   },
   "file_extension": ".py",
   "mimetype": "text/x-python",
   "name": "python",
   "nbconvert_exporter": "python",
   "pygments_lexer": "ipython3",
   "version": "3.7.0"
  }
 },
 "nbformat": 4,
 "nbformat_minor": 5
}
