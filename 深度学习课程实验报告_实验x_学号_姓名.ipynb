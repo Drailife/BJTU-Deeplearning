{
 "cells": [
  {
   "cell_type": "code",
   "execution_count": null,
   "id": "ecc61adf",
   "metadata": {
    "deletable": false,
    "editable": false,
    "pycharm": {
     "name": "#%%\n"
    }
   },
   "outputs": [],
   "source": []
  },
  {
   "cell_type": "markdown",
   "id": "98a68242",
   "metadata": {
    "pycharm": {
     "name": "#%% md\n"
    }
   },
   "source": [
    "# 基本信息\n",
    "1. 实验名称：\n",
    "2. 姓名：\n",
    "3. 学号：\n",
    "4. 日期：2022/10/6"
   ]
  },
  {
   "cell_type": "markdown",
   "id": "11247ddf",
   "metadata": {
    "pycharm": {
     "name": "#%% md\n"
    }
   },
   "source": [
    "---"
   ]
  },
  {
   "cell_type": "markdown",
   "id": "57dc61ff",
   "metadata": {
    "pycharm": {
     "name": "#%% md\n"
    }
   },
   "source": [
    "# 一、任务1\n",
    "\n",
    "## 1.1 任务内容\n",
    "\n",
    "1. 任务具体要求\n",
    "动手从0实现logistic回归(只借助Tensor和Numpy相关的库)\n",
    "2. 任务目的\n",
    "3. 任务算法或原理介绍\n",
    "4. 任务所用数据集（若此前已介绍过则可略）\n",
    "\n",
    "## 1.2 任务思路及代码\n",
    "\n",
    "> 以文本步骤的形式简要介绍代码思路\n",
    "1. 步骤1：……\n",
    "2. 步骤2：……\n",
    "3. ……"
   ]
  },
  {
   "cell_type": "code",
   "execution_count": 1,
   "id": "96535ccd",
   "metadata": {
    "pycharm": {
     "name": "#%%\n"
    }
   },
   "outputs": [
    {
     "name": "stdout",
     "output_type": "stream",
     "text": [
      "Hello World!\n"
     ]
    }
   ],
   "source": [
    "# 实验代码\n",
    "print(\"Hello World!\")"
   ]
  },
  {
   "cell_type": "markdown",
   "id": "47cbf009",
   "metadata": {
    "pycharm": {
     "name": "#%% md\n"
    }
   },
   "source": [
    "## 1.3 实验结果分析\n",
    "\n",
    "> 本部分位置灵活，若结果位于`实验代码`中，则可在输出结果后添加本部分。请注意如下几点：\n",
    "> 1. 添加本部分的位置应添加`## 实验结果分析`二级标题；\n",
    "> 2. 对比不同参数性能时至少要有三组参数以提高说服力；\n",
    "> 3. 不能只有图或表而没有文字分析；\n",
    "> 4. 避免在没有给出证明的情况下使用“完美”、“完全”、“消除”、“彻底”等绝对表述；\n",
    "> 5. **应对贴出的图和表进行描述（如趋势等），同时分析出现相关现象的原因**。"
   ]
  },
  {
   "cell_type": "markdown",
   "id": "eaca0561",
   "metadata": {
    "pycharm": {
     "name": "#%% md\n"
    }
   },
   "source": [
    "---"
   ]
  },
  {
   "cell_type": "markdown",
   "id": "ee41260a",
   "metadata": {
    "pycharm": {
     "name": "#%% md\n"
    }
   },
   "source": [
    "# 二、任务2\n",
    "\n",
    "## 2.1 任务内容\n",
    "\n",
    "1. 任务具体要求\n",
    "2. 任务目的\n",
    "3. 任务算法或原理介绍\n",
    "4. 任务所用数据集（若此前已介绍过则可略）\n",
    "\n",
    "## 2.2 任务思路及代码\n",
    "\n",
    "> 以文本步骤的形式简要介绍代码思路\n",
    "1. 步骤1：……\n",
    "2. 步骤2：……\n",
    "3. ……"
   ]
  },
  {
   "cell_type": "code",
   "execution_count": 2,
   "id": "eb70e09a",
   "metadata": {
    "pycharm": {
     "name": "#%%\n"
    }
   },
   "outputs": [
    {
     "name": "stdout",
     "output_type": "stream",
     "text": [
      "Hello World!\n"
     ]
    }
   ],
   "source": [
    "# 实验代码\n",
    "print(\"Hello World!\")"
   ]
  },
  {
   "cell_type": "markdown",
   "id": "e9e8191c",
   "metadata": {
    "pycharm": {
     "name": "#%% md\n"
    }
   },
   "source": [
    "## 2.3 实验结果分析\n",
    "\n",
    "> 本部分位置灵活，若结果位于`实验代码`中，则可在输出结果后添加本部分。请注意如下几点：\n",
    "> 1. 添加本部分的位置应添加`## 实验结果分析`二级标题；\n",
    "> 2. 对比不同参数性能时至少要有三组参数以提高说服力；\n",
    "> 3. 不能只有图或表而没有文字分析；\n",
    "> 4. 避免在没有给出证明的情况下使用“完美”、“完全”、“消除”、“彻底”等绝对表述；\n",
    "> 5. **应对贴出的图和表进行描述（如趋势等），同时分析出现相关现象的原因**。"
   ]
  },
  {
   "cell_type": "markdown",
   "id": "121f592e",
   "metadata": {
    "pycharm": {
     "name": "#%% md\n"
    }
   },
   "source": [
    "---"
   ]
  },
  {
   "cell_type": "markdown",
   "id": "bfabe468",
   "metadata": {
    "pycharm": {
     "name": "#%% md\n"
    }
   },
   "source": [
    "# A1 实验心得\n",
    "\n",
    "> 1. 请重视总结心得体会，该部分计分；\n",
    "> 2. 至少应包括一个具体任务心得或代码排错过程，而不是仅有诸如“学到了很多”的内容。\n",
    "\n",
    "# A2 参考文献\n",
    "\n",
    "> 主要包含实验过程中涉及到的参考资料或者借鉴别人的材料等，如果没有可以不写。\n",
    "\n",
    "1. 参考文献1；\n",
    "2. 参考文献2；\n",
    "3. ……"
   ]
  },
  {
   "cell_type": "markdown",
   "id": "fb11d97e",
   "metadata": {
    "pycharm": {
     "name": "#%% md\n"
    }
   },
   "source": [
    "# A3 书写规范\n",
    "\n",
    "## A3-1 注意中英文规范及表述\n",
    "1. 在正确的位置使用正确的中英标点\n",
    "   1. 在公式中请使用`,`而不是`，`；\n",
    "   2. 在正常行文中，若中文则使用`，`而不是`,`，同时切忌中英标点混用。\n",
    "2. 分点结尾标点符号：最后一个分点之前的每句话结尾使用分号，最后一个分点使用句号；\n",
    "3. 检查错别字：“意味着”而不是“意味这”；\n",
    "4. 尽量使用简要书面语，如：\n",
    "    |原表达|简要书面语|\n",
    "    |-|-|\n",
    "    |如果|若|\n",
    "    |也就是、就是、实际上|即|\n",
    "    |的时候|时|\n",
    "    |刚刚好（叠词）|刚好、恰|\n",
    "5. 避免在没有给出证明的情况下使用“完美”、“完全”、“消除”、“彻底”等绝对表述；\n",
    "\n",
    "## A3-2 非必要时请避免使用如下内容\n",
    "1. `划去线`：即四个波浪号包裹~~目标文段~~，将降低文档可读性；\n",
    "2. `无序号分点`：即`*`、`-`、`+`等，将降低文档可读性；\n",
    "3. `口语化表达`：如反问句（如“那么什么时候为0呢？”）、人称代词（如“我们”）等；\n",
    "\n",
    "## A3-3 图表\n",
    "1. 截图请保证图片的分辨率；\n",
    "2. 请使用Markdown中的表格语法添加表格；若使用工具包输出表格则应注意保留输出；\n",
    "3. 应对贴出的图和表进行描述（如趋势等），同时分析出现相关现象的原因。\n",
    "\n",
    "## A3-4 结构\n",
    "1. 尽可能使用`序号分点`：\n",
    "   1. 能够快捷换行，否则需要`两个回车或是两个空格加回车`才能换行；\n",
    "   2. 能够使文档具有结构性，层次鲜明而便于阅读；\n",
    "   3. 相较`无序号分点`有更强的层次感；\n",
    "2. 标题级别或分点列表非必要不要到三级标题（即`###`）：避免文档层次过深，结构冗杂；\n",
    "3. 插入多媒体信息（包括图片、表格、代码块等）时，若上一级是`分点列表`，应另起一行（避免渲染时可能会出现缩放降低可读性），并在其父级范围内插入而不是与父级同级位置插入（提高结构性，使其能够进行折叠）：\n",
    "\n",
    "## A3-5 引用和注释\n",
    "1. 超链接引用格式为`[]()`（如`[百度](baidu.com)`）；\n",
    "2. 使用`>`引用块来表示需要“注”的内容。\n",
    "\n",
    "## A3-6 高亮\n",
    "1. 使用`上逗号`（即<kbd>Esc</kbd>键下方的键）对`英文`或`引言`等进行包裹，通过`vscode`的高亮渲染提高文档可读性（而不是使用双引号等）；\n",
    "2. 使用**着重语法**（即四个星号）对一些重点信息进行加粗；\n",
    "3. 使用`代码块`包裹代码，并标注该代码块使用的语言，以便渲染器进行语法渲染；\n",
    "\n",
    "## A3-7 代码\n",
    "1. 代码块中的代码应当保证语法正确性：\n",
    "   1. 避免：代码本身就出错了（没有正确缩进）\n",
    "      ```python\n",
    "         def func(params):\n",
    "         print(1)\n",
    "      ```\n",
    "   2. 提倡：\n",
    "      ```python\n",
    "         def func(params):\n",
    "            print(1)\n",
    "      ```\n",
    "2. 粘贴的代码应为`最小可执行单元`，即可以直接复制后粘贴使用，避免有一些前置的超参数，若不可避免应说明：\n",
    "   1. 避免：有未知格式的超参数STYLE_DICT\n",
    "      ```python\n",
    "         from config import STYLE_DICT\n",
    "         # 定义函数\n",
    "         def style_format(style_dict:dict):\n",
    "            pass\n",
    "         # 调用函数\n",
    "         style_format(STYLE_DICT)\n",
    "      ```\n",
    "   2. 提倡：若有未知格式的超参数则至少需要说明其结构：\n",
    "      ```python\n",
    "         from config import STYLE_DICT\n",
    "         # 定义函数\n",
    "         def style_format(style_dict:dict):\n",
    "            \"\"\"\n",
    "            @param style_dict: 其结构为……\n",
    "            \"\"\"\n",
    "            pass\n",
    "         # 调用函数\n",
    "         style_format(STYLE_DICT)\n",
    "      ```"
   ]
  }
 ],
 "metadata": {
  "celltoolbar": "无",
  "kernelspec": {
   "display_name": "Python 3 (ipykernel)",
   "language": "python",
   "name": "python3"
  },
  "language_info": {
   "codemirror_mode": {
    "name": "ipython",
    "version": 3
   },
   "file_extension": ".py",
   "mimetype": "text/x-python",
   "name": "python",
   "nbconvert_exporter": "python",
   "pygments_lexer": "ipython3",
   "version": "3.9.7"
  }
 },
 "nbformat": 4,
 "nbformat_minor": 5
}
